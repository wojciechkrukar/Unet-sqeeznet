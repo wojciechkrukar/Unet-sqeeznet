{
 "cells": [
  {
   "cell_type": "code",
   "execution_count": 1,
   "metadata": {},
   "outputs": [],
   "source": [
    "import numpy as np\n",
    "import os, cv2, random\n",
    "from os import listdir\n",
    "from os.path import isfile, join\n",
    "from shutil import copyfile\n",
    "#from coveroverlay import overlayPictures\n",
    "import matplotlib.pyplot as plt\n",
    "from PIL import Image  \n",
    "import time\n",
    "\n",
    "import cv2\n",
    "import cv2 as cv\n",
    "import numpy as np\n",
    "import pandas as pd\n",
    "import matplotlib.pyplot as plt"
   ]
  },
  {
   "cell_type": "code",
   "execution_count": 2,
   "metadata": {},
   "outputs": [],
   "source": [
    "def fileNamesInFolder(myFolder):\n",
    "    relativeDir = os.path.dirname(os.path.realpath('__file__'))\n",
    "    #print(relativeDir)\n",
    "    folderName = os.path.join(relativeDir, myFolder)\n",
    "    onlyfiles = [f for f in listdir(folderName) if isfile(join(folderName, f))]\n",
    "    return onlyfiles"
   ]
  },
  {
   "cell_type": "code",
   "execution_count": 3,
   "metadata": {},
   "outputs": [
    {
     "data": {
      "text/plain": [
       "<matplotlib.image.AxesImage at 0x11c45f208>"
      ]
     },
     "execution_count": 3,
     "metadata": {},
     "output_type": "execute_result"
    },
    {
     "data": {
      "image/png": "[encoded data removed]",
      "text/plain": [
       "<Figure size 432x288 with 1 Axes>"
      ]
     },
     "metadata": {},
     "output_type": "display_data"
    }
   ],
   "source": [
    "#     backgroundsList = fileNamesInFolder(\"Background\")\n",
    "    \n",
    "#     relativeDir = os.path.dirname(os.path.realpath('__file__'))\n",
    "#     folderName = os.path.join(relativeDir, \"Background\")\n",
    "    \n",
    "#     saveFolder =   os.path.join(relativeDir, 'labels')\n",
    "relativeDir = os.path.dirname(os.path.realpath('__file__'))\n",
    "onlyfiles = [f for f in listdir(relativeDir) if isfile(join(relativeDir, f))]\n",
    "    \n",
    "for f in onlyfiles:\n",
    "        \n",
    "    if f != '.DS_Store' and f != 'resize.ipynb':\n",
    "            \n",
    "        \n",
    "        file = f\n",
    "        img = plt.imread(file)\n",
    "            \n",
    "            #===============================\n",
    "            \n",
    "            #tu kod maski\n",
    "        img = cv2.cvtColor(img, cv2.COLOR_RGB2GRAY)\n",
    "#         img = cv2.resize(img, (512, 512))\n",
    "#             mask = createMask(img)\n",
    "            \n",
    "            #================================\n",
    "#         dst_jpg = os.path.join(onlyfiles, f)\n",
    "        im = Image.fromarray(img)\n",
    "        im.save(file)\n",
    "        \n",
    "#         print(onlyfiles)\n",
    "plt.imshow(img)\n"
   ]
  },
  {
   "cell_type": "code",
   "execution_count": null,
   "metadata": {},
   "outputs": [],
   "source": []
  }
 ],
 "metadata": {
  "kernelspec": {
   "display_name": "Python 3",
   "language": "python",
   "name": "python3"
  },
  "language_info": {
   "codemirror_mode": {
    "name": "ipython",
    "version": 3
   },
   "file_extension": ".py",
   "mimetype": "text/x-python",
   "name": "python",
   "nbconvert_exporter": "python",
   "pygments_lexer": "ipython3",
   "version": "3.6.5"
  }
 },
 "nbformat": 4,
 "nbformat_minor": 2
}
